{
  "nbformat": 4,
  "nbformat_minor": 0,
  "metadata": {
    "colab": {
      "provenance": [],
      "authorship_tag": "ABX9TyN4cUZZPpimLZ49fMpFaiOS",
      "include_colab_link": true
    },
    "kernelspec": {
      "name": "python3",
      "display_name": "Python 3"
    },
    "language_info": {
      "name": "python"
    }
  },
  "cells": [
    {
      "cell_type": "markdown",
      "metadata": {
        "id": "view-in-github",
        "colab_type": "text"
      },
      "source": [
        "<a href=\"https://colab.research.google.com/github/ubsuny/PHY386/blob/test/2025/HW/codeBall01/HW1.ipynb\" target=\"_parent\"><img src=\"https://colab.research.google.com/assets/colab-badge.svg\" alt=\"Open In Colab\"/></a>"
      ]
    },
    {
      "cell_type": "code",
      "execution_count": null,
      "metadata": {
        "id": "82Js3UOeTexL"
      },
      "outputs": [],
      "source": []
    },
    {
      "cell_type": "markdown",
      "source": [
        "## Basic Formating Examples"
      ],
      "metadata": {
        "id": "L5TYUXJeTmAK"
      }
    },
    {
      "cell_type": "markdown",
      "source": [
        "What I'm looking to learn in this class:\n",
        "\n",
        "\n",
        "1. How to model physical systems in python\n",
        "2. How to use python to solve complex mathimatical equations\n",
        "3. How to use machine learning in physics\n",
        "4. About modern uses of how computers are used in physics\n",
        "5. Monti Carlo simulations\n"
      ],
      "metadata": {
        "id": "Tp1MTLnQT3v8"
      }
    },
    {
      "cell_type": "markdown",
      "source": [
        "###How to inclue external media"
      ],
      "metadata": {
        "id": "bUwvf4TNTqRk"
      }
    },
    {
      "cell_type": "markdown",
      "source": [
        "![link text](https://encrypted-tbn1.gstatic.com/images?q=tbn:ANd9GcSYL519Z_hswBfTk6U_7OTO2mF3w316LkWOebqFKtX5TCibY7_rN6MnkJB6KbPMZG9EK5fU9Oc2GVBgJMyNlFLnpg)\n",
        "\n",
        "\n",
        "**Richard Feynman**\n",
        "Source:\n",
        "[gstatic.com](https://encrypted-tbn1.gstatic.com/images?q=tbn:ANd9GcSYL519Z_hswBfTk6U_7OTO2mF3w316LkWOebqFKtX5TCibY7_rN6MnkJB6KbPMZG9EK5fU9Oc2GVBgJMyNlFLnpg)\n",
        "\n",
        "Feynman is my favorite scientist because of the way he thought from solving problems to how he taught.\n",
        "\n",
        "\n"
      ],
      "metadata": {
        "id": "ta1__vuQUwpF"
      }
    },
    {
      "cell_type": "markdown",
      "source": [
        "##Coding Excersises"
      ],
      "metadata": {
        "id": "7Yez7fYiTtzt"
      }
    }
  ]
}