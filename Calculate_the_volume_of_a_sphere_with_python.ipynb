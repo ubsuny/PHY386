{
  "nbformat": 4,
  "nbformat_minor": 0,
  "metadata": {
    "colab": {
      "provenance": [],
      "authorship_tag": "ABX9TyNp399wjWiuN1pOq4TIyfGL",
      "include_colab_link": true
    },
    "kernelspec": {
      "name": "python3",
      "display_name": "Python 3"
    },
    "language_info": {
      "name": "python"
    }
  },
  "cells": [
    {
      "cell_type": "markdown",
      "metadata": {
        "id": "view-in-github",
        "colab_type": "text"
      },
      "source": [
        "<a href=\"https://colab.research.google.com/github/ubsuny/PHY386/blob/Examples/Calculate_the_volume_of_a_sphere_with_python.ipynb\" target=\"_parent\"><img src=\"https://colab.research.google.com/assets/colab-badge.svg\" alt=\"Open In Colab\"/></a>"
      ]
    },
    {
      "cell_type": "markdown",
      "source": [
        "# Calculate the volume of a sphere with python"
      ],
      "metadata": {
        "id": "lMxmpSg9V18F"
      }
    },
    {
      "cell_type": "markdown",
      "source": [
        "### Cell 1: Problem Explanation\n",
        "### Volume of a Sphere\n",
        "We want to compute the volume of a sphere with radius $R$.\n",
        "\n",
        "#### Formula for the Volume of a Sphere\n",
        "The formula for the volume of a sphere is given by:\n",
        "$$\n",
        "V = \\frac{4}{3} \\pi R^3\n",
        "$$\n",
        "where:\n",
        "- $R$ is the radius of the sphere,\n",
        "\n",
        "#### Objective\n",
        "- Derive the formula using calculus (integration).\n",
        "- Calculate the volume numerically using Python.\n"
      ],
      "metadata": {
        "id": "CB__BnwbV7hY"
      }
    },
    {
      "cell_type": "markdown",
      "source": [
        "### Derivation of the Formula using Calculus\n",
        "We can derive the formula for the volume of a sphere using the concept of integration.\n",
        "\n",
        "The volume of a sphere is computed by summing up the infinitesimally thin circular disks along the $z$-axis from $-R$ to $R$.\n",
        "\n",
        "##### Step 1: Equation of a Circle\n",
        "The equation of a circle in the $xz$-plane is:\n",
        "$$\n",
        "x^2 + z^2 = R^2\n",
        "$$\n",
        "Solving for $x$, the radius of a circular slice at a given $z$, we get:\n",
        "$$\n",
        "x = \\sqrt{R^2 - z^2}\n",
        "$$\n",
        "\n",
        "##### Step 2: Area of the Disk\n",
        "The area of each disk is:\n",
        "$$\n",
        "A(z) = \\pi x^2 = \\pi (R^2 - z^2)\n",
        "$$\n",
        "\n",
        "### Step 3: Integrate to Find the Volume\n",
        "The volume of the sphere is:\n",
        "$$\n",
        "V = \\int_{-R}^{R} A(z) \\, dz = \\int_{-R}^{R} \\pi (R^2 - z^2) \\, dz\n",
        "$$\n",
        "\n",
        "We will compute this integral in Python.\n"
      ],
      "metadata": {
        "id": "naXouc1UWTIn"
      }
    },
    {
      "cell_type": "code",
      "source": [
        "# Importing Required Libraries\n",
        "import sympy as sp\n",
        "\n",
        "# Define symbols\n",
        "R, z = sp.symbols(\"R z\", positive=True)\n",
        "\n",
        "# Define the integrand for the volume\n",
        "integrand = sp.pi * (R**2 - z**2)\n",
        "integrand"
      ],
      "metadata": {
        "colab": {
          "base_uri": "https://localhost:8080/",
          "height": 38
        },
        "id": "v-7jLTA4WShE",
        "outputId": "14facaf8-e746-4a44-b960-9f3da35a30b6"
      },
      "execution_count": 1,
      "outputs": [
        {
          "output_type": "execute_result",
          "data": {
            "text/plain": [
              "pi*(R**2 - z**2)"
            ],
            "text/latex": "$\\displaystyle \\pi \\left(R^{2} - z^{2}\\right)$"
          },
          "metadata": {},
          "execution_count": 1
        }
      ]
    },
    {
      "cell_type": "code",
      "execution_count": 2,
      "metadata": {
        "colab": {
          "base_uri": "https://localhost:8080/",
          "height": 54
        },
        "id": "qN4XPT3QV0n9",
        "outputId": "e9865498-a551-4ff6-e717-09334c771584"
      },
      "outputs": [
        {
          "output_type": "execute_result",
          "data": {
            "text/plain": [
              "4*pi*R**3/3"
            ],
            "text/latex": "$\\displaystyle \\frac{4 \\pi R^{3}}{3}$"
          },
          "metadata": {},
          "execution_count": 2
        }
      ],
      "source": [
        "# Solving the Integral\n",
        "# Compute the definite integral from -R to R\n",
        "volume_integral = sp.integrate(integrand, (z, -R, R))\n",
        "volume_integral"
      ]
    },
    {
      "cell_type": "code",
      "source": [
        "# Simplify the Result\n",
        "# Simplify the result to obtain the standard formula for the volume of a sphere\n",
        "volume_formula = sp.simplify(volume_integral)\n",
        "volume_formula"
      ],
      "metadata": {
        "colab": {
          "base_uri": "https://localhost:8080/",
          "height": 54
        },
        "id": "pzX_Sj_qX0KX",
        "outputId": "b8837813-768d-4a98-c965-f627fa5d3f4c"
      },
      "execution_count": 3,
      "outputs": [
        {
          "output_type": "execute_result",
          "data": {
            "text/plain": [
              "4*pi*R**3/3"
            ],
            "text/latex": "$\\displaystyle \\frac{4 \\pi R^{3}}{3}$"
          },
          "metadata": {},
          "execution_count": 3
        }
      ]
    },
    {
      "cell_type": "markdown",
      "source": [
        "### Numerical Calculation\n",
        "Let's calculate the volume of a sphere for a specific radius $R$. For example, $R = 5$.\n"
      ],
      "metadata": {
        "id": "7PVGoaBPdR8y"
      }
    },
    {
      "cell_type": "code",
      "source": [
        "# Assign a value to the radius\n",
        "radius_value = 5\n",
        "\n",
        "# Evaluate the volume using the formula\n",
        "numerical_volume = volume_formula.subs(R, radius_value)\n",
        "f\"Volume of a sphere with radius {radius_value} is approximately {numerical_volume:.2f} cubic units.\""
      ],
      "metadata": {
        "colab": {
          "base_uri": "https://localhost:8080/",
          "height": 36
        },
        "id": "sTlZT0dKYCO1",
        "outputId": "0b346820-f23c-49ac-e4e3-c00c4966179a"
      },
      "execution_count": 4,
      "outputs": [
        {
          "output_type": "execute_result",
          "data": {
            "text/plain": [
              "'Volume of a sphere with radius 5 is approximately 523.60 cubic units.'"
            ],
            "application/vnd.google.colaboratory.intrinsic+json": {
              "type": "string"
            }
          },
          "metadata": {},
          "execution_count": 4
        }
      ]
    },
    {
      "cell_type": "markdown",
      "source": [
        "### Summary\n",
        "1. The formula for the volume of a sphere was derived using calculus:\n",
        "$$\n",
        "V = \\frac{4}{3} \\pi R^3\n",
        "$$\n",
        "2. Using $R = 5$, the calculated volume is approximately 523.60 cubic units.\n"
      ],
      "metadata": {
        "id": "uScKw3lhYJvW"
      }
    },
    {
      "cell_type": "markdown",
      "source": [
        "### using spherical coordinates\n",
        "\n",
        "#### Volume of a Sphere Using Spherical Coordinates\n",
        "We want to compute the volume of a sphere with radius $R$ using spherical coordinates.\n",
        "\n",
        "#### Spherical Coordinates\n",
        "In spherical coordinates, the volume element $dV$ is given by:\n",
        "$$\n",
        "dV = r^2 \\sin\\theta \\, dr \\, d\\theta \\, d\\phi\n",
        "$$\n",
        "where:\n",
        "- $r$ is the radial distance,\n",
        "- $\\theta$ is the polar angle (measured from the positive $z$-axis),\n",
        "- $\\phi$ is the azimuthal angle (measured in the $xy$-plane).\n",
        "\n",
        "##### Volume of the Sphere\n",
        "To find the volume of a sphere of radius $R$, we integrate $dV$ over the appropriate limits:\n",
        "$$\n",
        "V = \\int_0^{2\\pi} \\int_0^{\\pi} \\int_0^R r^2 \\sin\\theta \\, dr \\, d\\theta \\, d\\phi\n",
        "$$\n",
        "\n",
        "#### Objective\n",
        "- Derive the volume formula for a sphere using spherical coordinates.\n",
        "- Compute the volume numerically for a specific radius $R$.\n"
      ],
      "metadata": {
        "id": "oVdVFf3TYk8Q"
      }
    },
    {
      "cell_type": "code",
      "source": [
        "# Importing Required Libraries\n",
        "import sympy as sp\n",
        "\n",
        "# Define symbols\n",
        "r, theta, phi, R = sp.symbols(\"r theta phi R\", positive=True)\n",
        "\n",
        "# Define the volume element in spherical coordinates\n",
        "dV = r**2 * sp.sin(theta)  # Volume element r^2 sin(theta) dr dtheta dphi\n",
        "dV"
      ],
      "metadata": {
        "colab": {
          "base_uri": "https://localhost:8080/",
          "height": 38
        },
        "id": "nlcqsS9KZs6w",
        "outputId": "e610a5fb-4729-49c4-e186-994d85139673"
      },
      "execution_count": 5,
      "outputs": [
        {
          "output_type": "execute_result",
          "data": {
            "text/plain": [
              "r**2*sin(theta)"
            ],
            "text/latex": "$\\displaystyle r^{2} \\sin{\\left(\\theta \\right)}$"
          },
          "metadata": {},
          "execution_count": 5
        }
      ]
    },
    {
      "cell_type": "markdown",
      "source": [
        "#### Setting Up the Triple Integral\n",
        "The total volume of the sphere is:\n",
        "$$\n",
        "V = \\int_0^{2\\pi} \\int_0^{\\pi} \\int_0^R r^2 \\sin\\theta \\, dr \\, d\\theta \\, d\\phi\n",
        "$$\n",
        "We will compute this integral step by step.\n"
      ],
      "metadata": {
        "id": "llb4v_dxacmX"
      }
    },
    {
      "cell_type": "code",
      "source": [
        "# Step 1: Integrate over r (radial coordinate)\n",
        "integrand_r = sp.integrate(r**2, (r, 0, R))\n",
        "integrand_r"
      ],
      "metadata": {
        "colab": {
          "base_uri": "https://localhost:8080/",
          "height": 54
        },
        "id": "1j8M23eTZsrw",
        "outputId": "b57f0408-96a7-4116-c2f3-f3c0bb3a3c57"
      },
      "execution_count": 6,
      "outputs": [
        {
          "output_type": "execute_result",
          "data": {
            "text/plain": [
              "R**3/3"
            ],
            "text/latex": "$\\displaystyle \\frac{R^{3}}{3}$"
          },
          "metadata": {},
          "execution_count": 6
        }
      ]
    },
    {
      "cell_type": "markdown",
      "source": [
        "### Integrate Over θ\n",
        "\n",
        "Next, integrate the result over $\\theta$:\n",
        "$$\n",
        "\\int_0^{\\pi} \\sin\\theta \\, d\\theta\n",
        "$$"
      ],
      "metadata": {
        "id": "FNrn9BVCYkqd"
      }
    },
    {
      "cell_type": "code",
      "source": [
        "# Step 2: Integrate over θ (polar angle)\n",
        "integrand_theta = sp.integrate(sp.sin(theta), (theta, 0, sp.pi))\n",
        "integrand_theta"
      ],
      "metadata": {
        "colab": {
          "base_uri": "https://localhost:8080/",
          "height": 37
        },
        "id": "eA1mn-d1YJF8",
        "outputId": "b445ecaf-079f-4b5e-80e2-0b41ced6ccca"
      },
      "execution_count": 7,
      "outputs": [
        {
          "output_type": "execute_result",
          "data": {
            "text/plain": [
              "2"
            ],
            "text/latex": "$\\displaystyle 2$"
          },
          "metadata": {},
          "execution_count": 7
        }
      ]
    },
    {
      "cell_type": "markdown",
      "source": [
        "### Integrate Over φ\n",
        "\n",
        "Finally, integrate over $\\phi$:\n",
        "$$\n",
        "\\int_0^{2\\pi} d\\phi\n",
        "$$"
      ],
      "metadata": {
        "id": "ux5PdJKFbHU_"
      }
    },
    {
      "cell_type": "code",
      "source": [
        "# Step 3: Integrate over φ (azimuthal angle)\n",
        "integrand_phi = sp.integrate(1, (phi, 0, 2 * sp.pi))\n",
        "integrand_phi"
      ],
      "metadata": {
        "colab": {
          "base_uri": "https://localhost:8080/",
          "height": 38
        },
        "id": "-ULXKB3MYHLG",
        "outputId": "bde93956-e7d1-40f2-d9be-eb17c4ec634e"
      },
      "execution_count": 8,
      "outputs": [
        {
          "output_type": "execute_result",
          "data": {
            "text/plain": [
              "2*pi"
            ],
            "text/latex": "$\\displaystyle 2 \\pi$"
          },
          "metadata": {},
          "execution_count": 8
        }
      ]
    },
    {
      "cell_type": "markdown",
      "source": [
        "#### Combining Results\n",
        "Multiply the results of the three integrals to compute the total volume of the sphere.\n"
      ],
      "metadata": {
        "id": "WPxWWTFnbTov"
      }
    },
    {
      "cell_type": "code",
      "source": [
        "# Combine all results\n",
        "volume_sphere = integrand_r * integrand_theta * integrand_phi\n",
        "volume_sphere.simplify()"
      ],
      "metadata": {
        "colab": {
          "base_uri": "https://localhost:8080/",
          "height": 54
        },
        "id": "ZCGa6RP4bNEn",
        "outputId": "3bb76272-43f1-4a25-a347-f54afc9e5639"
      },
      "execution_count": 9,
      "outputs": [
        {
          "output_type": "execute_result",
          "data": {
            "text/plain": [
              "4*pi*R**3/3"
            ],
            "text/latex": "$\\displaystyle \\frac{4 \\pi R^{3}}{3}$"
          },
          "metadata": {},
          "execution_count": 9
        }
      ]
    },
    {
      "cell_type": "markdown",
      "source": [
        "#### Numerical Calculation\n",
        "Let's calculate the volume of a sphere for a specific radius $R$. For example, $R = 5$."
      ],
      "metadata": {
        "id": "8rvOu21dbcUv"
      }
    },
    {
      "cell_type": "code",
      "source": [
        "# Assign a value to the radius\n",
        "radius_value = 5\n",
        "\n",
        "# Substitute the radius into the formula\n",
        "numerical_volume = volume_sphere.subs(R, radius_value)\n",
        "f\"Volume of a sphere with radius {radius_value} is approximately {numerical_volume:.2f} cubic units.\""
      ],
      "metadata": {
        "colab": {
          "base_uri": "https://localhost:8080/",
          "height": 36
        },
        "id": "YePt2qwWbkRJ",
        "outputId": "67925c79-a638-41a2-f4c4-4da996b9b921"
      },
      "execution_count": 10,
      "outputs": [
        {
          "output_type": "execute_result",
          "data": {
            "text/plain": [
              "'Volume of a sphere with radius 5 is approximately 523.60 cubic units.'"
            ],
            "application/vnd.google.colaboratory.intrinsic+json": {
              "type": "string"
            }
          },
          "metadata": {},
          "execution_count": 10
        }
      ]
    },
    {
      "cell_type": "markdown",
      "source": [
        "### Summary\n",
        "1. The formula for the volume of a sphere derived using spherical coordinates is:\n",
        "$$\n",
        "V = \\frac{4}{3} \\pi R^3\n",
        "$$\n",
        "2. Using $R = 5$, the calculated volume is approximately 523.60 cubic units."
      ],
      "metadata": {
        "id": "_uA7oKawbtBO"
      }
    },
    {
      "cell_type": "code",
      "source": [],
      "metadata": {
        "id": "mmiTACyMbnDo"
      },
      "execution_count": null,
      "outputs": []
    },
    {
      "cell_type": "markdown",
      "source": [
        "# Let's plot it"
      ],
      "metadata": {
        "id": "8NScsr7HeAnt"
      }
    },
    {
      "cell_type": "code",
      "source": [
        "# Import required libraries\n",
        "import numpy as np\n",
        "import matplotlib.pyplot as plt\n",
        "\n",
        "# Function to calculate the volume of a sphere\n",
        "def sphere_volume(radius):\n",
        "    return (4 / 3) * np.pi * radius**3\n",
        "\n",
        "# Generate radius values\n",
        "radii = np.linspace(0, 10, 100)  # Radius values from 0 to 10\n",
        "volumes = sphere_volume(radii)   # Compute volumes for each radius\n",
        "\n",
        "# Create the plot\n",
        "plt.figure(figsize=(8, 6))\n",
        "plt.plot(radii, volumes, label=r'$V = \\frac{4}{3} \\pi R^3$', color='blue')\n",
        "plt.title(\"Volume of a Sphere vs Radius\", fontsize=16)\n",
        "plt.xlabel(\"Radius (R)\", fontsize=14)\n",
        "plt.ylabel(\"Volume (V)\", fontsize=14)\n",
        "plt.grid(True, linestyle=\"--\", alpha=0.7)\n",
        "plt.legend(fontsize=12)\n",
        "plt.tight_layout()\n",
        "plt.show()"
      ],
      "metadata": {
        "colab": {
          "base_uri": "https://localhost:8080/",
          "height": 607
        },
        "id": "LP-y8DrneCJ5",
        "outputId": "d8b944cc-b33e-42c9-a551-8f0dd9a9984e"
      },
      "execution_count": 11,
      "outputs": [
        {
          "output_type": "display_data",
          "data": {
            "text/plain": [
              "<Figure size 800x600 with 1 Axes>"
            ],
            "image/png": "[encoded data removed]"
          },
          "metadata": {}
        }
      ]
    },
    {
      "cell_type": "code",
      "source": [],
      "metadata": {
        "id": "0kXa33p2eFzz"
      },
      "execution_count": null,
      "outputs": []
    }
  ]
}