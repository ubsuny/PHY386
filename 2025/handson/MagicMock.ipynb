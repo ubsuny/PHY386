{
  "nbformat": 4,
  "nbformat_minor": 0,
  "metadata": {
    "colab": {
      "provenance": [],
      "authorship_tag": "ABX9TyN9/Oe6M8lxJBI2Lta9Sk+E",
      "include_colab_link": true
    },
    "kernelspec": {
      "name": "python3",
      "display_name": "Python 3"
    },
    "language_info": {
      "name": "python"
    }
  },
  "cells": [
    {
      "cell_type": "markdown",
      "metadata": {
        "id": "view-in-github",
        "colab_type": "text"
      },
      "source": [
        "<a href=\"https://colab.research.google.com/github/ubsuny/PHY386/blob/main/2025/handson/MagicMock.ipynb\" target=\"_parent\"><img src=\"https://colab.research.google.com/assets/colab-badge.svg\" alt=\"Open In Colab\"/></a>"
      ]
    },
    {
      "cell_type": "markdown",
      "source": [
        "# MagicMock\n",
        "\n",
        "## What is MagicMock?\n",
        "\n",
        "MagicMock is a tool for creating fake objects in Python tests.\n",
        "It’s part of the `unittest.mock` module and is useful when you want to simulate how complex objects behave without needing to use the real thing.\n",
        "\n",
        "Think of MagicMock like a pretend version of something complicated, like a telescope or a web server.\n",
        "You can tell it exactly what to do for your test, without needing the real telescope or server."
      ],
      "metadata": {
        "id": "zYp3PvmS0Af_"
      }
    },
    {
      "cell_type": "markdown",
      "source": [
        "### Why Use MagicMock?\n",
        "\n",
        "1.\tTo avoid using real resources:\n",
        "- Example: A real WCS (World Coordinate System) object from astronomy has complex math and data. If you just want to test that your code adds RA and DEC columns, you don’t need the real WCS.\n",
        "2.\tTo control outputs:\n",
        "- You can make MagicMock return exact results that you expect, so your tests are predictable.\n",
        "3.\tTo test in isolation:\n",
        "- Sometimes you want to test just one part of your code, without depending on the rest. Mocks help you do that.\n",
        "\n",
        "### How to Use MagicMock?\n",
        "\n",
        "Here’s a simple step-by-step:\n",
        "\n",
        "1.\tImport it:\n",
        "\n",
        "- `from unittest.mock import MagicMock`\n",
        "\n",
        "2.\tCreate a fake object:\n",
        "\n",
        "- `wcs = MagicMock()`\n",
        "\n",
        "\n",
        "3.\tTell it what to return when a function is called:\n",
        "\n",
        "- `wcs.all_pix2world.return_value = (np.array([10.0, 20.0]), np.array([-5.0, -10.0]))`\n",
        "\n",
        "\n",
        "4.\tUse it in your code:\n",
        "\n",
        "- `sky_coords = wcs.all_pix2world([100, 200], [150, 250], 1)`\n",
        "\n",
        "\n",
        "5.\tCheck if your code behaves as expected using asserts."
      ],
      "metadata": {
        "id": "VG8RU1Dr0CSC"
      }
    },
    {
      "cell_type": "code",
      "source": [
        "# Install required libraries\n",
        "!pip install astropy matplotlib numpy pytest ipytest"
      ],
      "metadata": {
        "id": "sO2gOnYb1Bkl"
      },
      "execution_count": null,
      "outputs": []
    },
    {
      "cell_type": "code",
      "source": [
        "import ipytest\n",
        "import pytest\n",
        "ipytest.autoconfig()"
      ],
      "metadata": {
        "id": "kOYh78_I1G64"
      },
      "execution_count": null,
      "outputs": []
    },
    {
      "cell_type": "code",
      "source": [
        "# Example with Explanation:\n",
        "\n",
        "import pandas as pd\n",
        "import numpy as np\n",
        "from unittest.mock import MagicMock\n",
        "\n",
        "def test_with_magicmock():\n",
        "    # Create a simple catalog\n",
        "    catalog = pd.DataFrame({\n",
        "        'xcentroid': [100, 200],\n",
        "        'ycentroid': [150, 250]\n",
        "    })\n",
        "\n",
        "    # Make a fake WCS object\n",
        "    wcs = MagicMock()\n",
        "    # Tell it: when all_pix2world is called, return these arrays\n",
        "    wcs.all_pix2world.return_value = (np.array([10.0, 20.0]), np.array([-5.0, -10.0]))\n",
        "\n",
        "    # This is the code you're testing\n",
        "    sky_coords = wcs.all_pix2world(catalog['xcentroid'], catalog['ycentroid'], 1)\n",
        "    catalog['ra'] = sky_coords[0]\n",
        "    catalog['dec'] = sky_coords[1]\n",
        "\n",
        "    # Check if the catalog now has the expected values\n",
        "    assert all(catalog['ra'] == np.array([10.0, 20.0]))\n",
        "    assert all(catalog['dec'] == np.array([-5.0, -10.0]))"
      ],
      "metadata": {
        "id": "OGvLtdBE0ca9"
      },
      "execution_count": null,
      "outputs": []
    },
    {
      "cell_type": "code",
      "source": [
        "ipytest.run()"
      ],
      "metadata": {
        "id": "0-H3RENL1ItF"
      },
      "execution_count": null,
      "outputs": []
    },
    {
      "cell_type": "code",
      "source": [],
      "metadata": {
        "id": "74NWEbs61M09"
      },
      "execution_count": null,
      "outputs": []
    }
  ]
}