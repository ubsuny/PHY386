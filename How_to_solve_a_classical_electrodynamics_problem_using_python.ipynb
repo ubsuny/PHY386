{
  "nbformat": 4,
  "nbformat_minor": 0,
  "metadata": {
    "colab": {
      "provenance": [],
      "authorship_tag": "ABX9TyOpNrVx/W87qgdZRacqnOp7",
      "include_colab_link": true
    },
    "kernelspec": {
      "name": "python3",
      "display_name": "Python 3"
    },
    "language_info": {
      "name": "python"
    }
  },
  "cells": [
    {
      "cell_type": "markdown",
      "metadata": {
        "id": "view-in-github",
        "colab_type": "text"
      },
      "source": [
        "<a href=\"https://colab.research.google.com/github/ubsuny/PHY386/blob/Examples/How_to_solve_a_classical_electrodynamics_problem_using_python.ipynb\" target=\"_parent\"><img src=\"https://colab.research.google.com/assets/colab-badge.svg\" alt=\"Open In Colab\"/></a>"
      ]
    },
    {
      "cell_type": "markdown",
      "source": [
        "# How to solve a classical electrodynamics problem using python\n",
        "\n",
        "## Example: Griffiths (5th) Problem 2.12"
      ],
      "metadata": {
        "id": "Cwz1ekdIE_ta"
      }
    },
    {
      "cell_type": "markdown",
      "source": [
        "### Using Gauss's Law to Find the Electric Field of a Spherical Shell\n",
        "#### Problem\n",
        "We want to find the electric field $\\mathbf{E}$ both inside and outside a spherical shell of radius $R$\n",
        "that carries a uniform surface charge density $\\sigma$, using Gauss's law.\n",
        "#### Key Concepts\n",
        "##### Gauss's Law\n",
        "Gauss's law states:\n",
        "$$\n",
        "\\oint \\mathbf{E} \\cdot d\\mathbf{A} = \\frac{Q_{\\text{enc}}}{\\varepsilon_0},\n",
        "$$\n",
        "where:\n",
        "- $\\mathbf{E}$: Electric field,\n",
        "- $d\\mathbf{A}$: Differential area vector,\n",
        "- $Q_{\\text{enc}}$: Enclosed charge,\n",
        "- $\\varepsilon_0$: Permittivity of free space.\n",
        "\n",
        "##### Symmetry of the Problem\n",
        "- The spherical symmetry of the shell ensures that the electric field, if present, will be radial and constant over a spherical Gaussian surface.\n",
        "- Depending on whether we are inside or outside the shell, the enclosed charge $Q_{\\text{enc}}$ will change.\n",
        "\n",
        "---\n",
        "\n",
        "##### Steps:\n",
        "1. **Inside the Shell** $( r < R )$: No charge is enclosed within the Gaussian surface, so $\\mathbf{E} = 0$.\n",
        "2. **Outside the Shell** $( r \\geq R )$: The entire charge $ Q = 4\\pi R^2 \\sigma $ is enclosed, and the field is calculated using Gauss's law."
      ],
      "metadata": {
        "id": "H_ZyjVLUEQG7"
      }
    },
    {
      "cell_type": "code",
      "source": [
        "# Constants and Imports\n",
        "import sympy as sp\n",
        "\n",
        "# Define symbols\n",
        "r, R, sigma, epsilon_0 = sp.symbols(\"r R sigma epsilon_0\", positive=True)\n"
      ],
      "metadata": {
        "id": "FbXMhhe5DwK8"
      },
      "execution_count": null,
      "outputs": []
    },
    {
      "cell_type": "markdown",
      "source": [
        "#### Inside the Shell (r < R)\n",
        "\n",
        "For a spherical shell, the enclosed charge $ Q_{\\text{enc}} $ inside the shell is zero because all the charge resides on the surface.\n",
        "Using Gauss's law:\n",
        "$$\n",
        "\\oint \\mathbf{E} \\cdot d\\mathbf{A} = \\frac{Q_{\\text{enc}}}{\\varepsilon_0},\n",
        "$$\n",
        "and since $ Q_{\\text{enc}} = 0 $, we have:\n",
        "$$\n",
        "\\mathbf{E} = 0 \\quad \\text{for } r < R.\n",
        "$$\n"
      ],
      "metadata": {
        "id": "XUFb9T3UFpaZ"
      }
    },
    {
      "cell_type": "code",
      "source": [
        "E_inside = 0\n",
        "E_inside\n"
      ],
      "metadata": {
        "colab": {
          "base_uri": "https://localhost:8080/"
        },
        "id": "Kk5lH39RD1hl",
        "outputId": "ddae55bd-3458-4f24-daef-0db102e348b3"
      },
      "execution_count": null,
      "outputs": [
        {
          "output_type": "execute_result",
          "data": {
            "text/plain": [
              "0"
            ]
          },
          "metadata": {},
          "execution_count": 8
        }
      ]
    },
    {
      "cell_type": "markdown",
      "source": [
        "##### Outside the Shell $( r \\geq R )$\n",
        "For $ r \\geq R $, the entire charge $ Q $ is enclosed within the Gaussian surface.\n",
        "- Surface area of the spherical Gaussian surface: $ A = 4\\pi r^2 $,\n",
        "- Total charge on the shell: $ Q = 4\\pi R^2 \\sigma $.\n",
        "\n",
        "Using Gauss's law:\n",
        "$$\n",
        "\\oint \\mathbf{E} \\cdot d\\mathbf{A} = \\frac{Q}{\\varepsilon_0}.\n",
        "$$\n",
        "\n",
        "Substitute:\n",
        "$$\n",
        "E \\cdot (4\\pi r^2) = \\frac{4\\pi R^2 \\sigma}{\\varepsilon_0}.\n",
        "$$\n",
        "\n",
        "Solve for $ E $:\n",
        "$$\n",
        "E = \\frac{R^2 \\sigma}{\\varepsilon_0 r^2} \\quad \\text{for } r \\geq R.\n",
        "$$"
      ],
      "metadata": {
        "id": "8Epn9BLQGA99"
      }
    },
    {
      "cell_type": "code",
      "source": [
        "Q = 4 * sp.pi * R**2 * sigma  # Total charge\n",
        "A = 4 * sp.pi * r**2  # Surface area of Gaussian surface\n",
        "E_outside = Q / (epsilon_0 * A)\n",
        "E_outside.simplify()\n"
      ],
      "metadata": {
        "colab": {
          "base_uri": "https://localhost:8080/",
          "height": 56
        },
        "id": "XbnMD9urD55k",
        "outputId": "9c29d3ee-6ff4-4eb3-8ce4-9e013d527ac6"
      },
      "execution_count": null,
      "outputs": [
        {
          "output_type": "execute_result",
          "data": {
            "text/plain": [
              "R**2*sigma/(epsilon_0*r**2)"
            ],
            "text/latex": "$\\displaystyle \\frac{R^{2} \\sigma}{\\epsilon_{0} r^{2}}$"
          },
          "metadata": {},
          "execution_count": 4
        }
      ]
    },
    {
      "cell_type": "markdown",
      "source": [
        "### Summary of Results\n",
        "\n",
        "- **Inside the shell** $( r < R )$: $ \\mathbf{E} = 0 $,\n",
        "- **Outside the shell** $( r \\geq R )$: $ \\mathbf{E} = \\frac{R^2 \\sigma}{\\varepsilon_0 r^2} $.\n",
        "\n"
      ],
      "metadata": {
        "id": "8LWnVXfwHcBH"
      }
    },
    {
      "cell_type": "code",
      "source": [
        "# Display results\n",
        "E_inside, E_outside.simplify()"
      ],
      "metadata": {
        "colab": {
          "base_uri": "https://localhost:8080/"
        },
        "id": "__w0zk_wD9O9",
        "outputId": "5b80958d-d679-48ad-ee77-dcbf10832558"
      },
      "execution_count": null,
      "outputs": [
        {
          "output_type": "execute_result",
          "data": {
            "text/plain": [
              "(0, R**2*sigma/(epsilon_0*r**2))"
            ]
          },
          "metadata": {},
          "execution_count": 10
        }
      ]
    },
    {
      "cell_type": "markdown",
      "source": [
        "To visualize we can use blender with the following script `electric_field_visualization.py` and execute:\n",
        "\n",
        "```blender --background --python electric_field_visualization.py```"
      ],
      "metadata": {
        "id": "CowrJ4dBIwJ4"
      }
    },
    {
      "cell_type": "code",
      "source": [
        "# blender script for visualization\n",
        "import bpy\n",
        "import math\n",
        "import mathutils\n",
        "\n",
        "# Parameters\n",
        "sigma = 1.0  # Surface charge density (arbitrary units)\n",
        "epsilon_0 = 1.0  # Permittivity of free space (arbitrary units)\n",
        "R = 2.0  # Radius of the spherical shell\n",
        "field_scale = 5.0  # Scale factor for field line length\n",
        "arrow_count = 10  # Number of arrows along each axis\n",
        "output_file = \"./electric_field_render.png\"  # Output file path\n",
        "\n",
        "# Function to calculate the electric field\n",
        "def electric_field(position, radius, charge_density, permittivity):\n",
        "    r = position.length\n",
        "    if r < radius:\n",
        "        return mathutils.Vector((0, 0, 0))  # Inside the shell, E = 0\n",
        "    else:\n",
        "        E_magnitude = (radius**2 * charge_density) / (permittivity * r**2)\n",
        "        return position.normalized() * E_magnitude\n",
        "\n",
        "# Clear existing objects\n",
        "bpy.ops.wm.read_factory_settings(use_empty=True)\n",
        "\n",
        "# Create the sphere\n",
        "bpy.ops.mesh.primitive_uv_sphere_add(radius=R, location=(0, 0, 0))\n",
        "sphere = bpy.context.object\n",
        "sphere.name = \"Charged Sphere\"\n",
        "\n",
        "# Material for the sphere\n",
        "material = bpy.data.materials.new(name=\"SphereMaterial\")\n",
        "material.use_nodes = True\n",
        "sphere.data.materials.append(material)\n",
        "\n",
        "# Generate field lines as arrows\n",
        "for x in range(-arrow_count, arrow_count + 1):\n",
        "    for y in range(-arrow_count, arrow_count + 1):\n",
        "        for z in range(-arrow_count, arrow_count + 1):\n",
        "            position = mathutils.Vector((x, y, z))\n",
        "            if position.length > R:  # Avoid placing arrows inside the shell\n",
        "                field = electric_field(position, R, sigma, epsilon_0)\n",
        "                if field.length > 0:\n",
        "                    # Scale the arrow length for better visualization\n",
        "                    field_scaled = field.normalized() * field.length * field_scale\n",
        "\n",
        "                    # Add arrow at this location\n",
        "                    bpy.ops.object.empty_add(type='ARROWS', location=position)\n",
        "                    arrow = bpy.context.object\n",
        "                    arrow.name = f\"FieldArrow_{x}_{y}_{z}\"\n",
        "\n",
        "                    # Point the arrow in the direction of the field\n",
        "                    arrow.rotation_mode = 'QUATERNION'\n",
        "                    arrow.rotation_quaternion = field_scaled.to_track_quat('Z', 'Y')\n",
        "\n",
        "                    # Scale the arrow to represent field magnitude\n",
        "                    arrow.scale = (0.1, 0.1, field.length * field_scale)\n",
        "\n",
        "# Set up camera\n",
        "bpy.ops.object.camera_add(location=(15, -15, 10))\n",
        "camera = bpy.context.object\n",
        "camera.name = \"Camera\"\n",
        "bpy.context.scene.camera = camera\n",
        "camera.rotation_euler = (math.radians(60), 0, math.radians(45))\n",
        "\n",
        "# Set up light\n",
        "bpy.ops.object.light_add(type='SUN', location=(10, -10, 10))\n",
        "light = bpy.context.object\n",
        "light.name = \"SunLight\"\n",
        "\n",
        "# Set up rendering\n",
        "bpy.context.scene.render.engine = \"CYCLES\"  # Use Cycles renderer\n",
        "bpy.context.scene.cycles.samples = 128  # Set rendering quality\n",
        "bpy.context.scene.render.image_settings.file_format = \"PNG\"\n",
        "bpy.context.scene.render.filepath = output_file\n",
        "\n",
        "# Render the scene\n",
        "bpy.ops.render.render(write_still=True)"
      ],
      "metadata": {
        "id": "8g4xotd0D_Ti"
      },
      "execution_count": null,
      "outputs": []
    }
  ]
}