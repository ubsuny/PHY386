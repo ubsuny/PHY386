{
  "nbformat": 4,
  "nbformat_minor": 0,
  "metadata": {
    "colab": {
      "provenance": [],
      "authorship_tag": "ABX9TyOCArwMuck0Rd75D9rbAdYq",
      "include_colab_link": true
    },
    "kernelspec": {
      "name": "python3",
      "display_name": "Python 3"
    },
    "language_info": {
      "name": "python"
    }
  },
  "cells": [
    {
      "cell_type": "markdown",
      "metadata": {
        "id": "view-in-github",
        "colab_type": "text"
      },
      "source": [
        "<a href=\"https://colab.research.google.com/github/ubsuny/PHY386/blob/playground/2025/HW/laserlab/HW1.ipynb\" target=\"_parent\"><img src=\"https://colab.research.google.com/assets/colab-badge.svg\" alt=\"Open In Colab\"/></a>"
      ]
    },
    {
      "cell_type": "markdown",
      "source": [
        "# PHY386 Homework 1:\n",
        "Learning outcome: get familiar with basic fomatting and coding.\n",
        "\n",
        "Tags: **Google Colab, Jupyter, python, markdown**\n"
      ],
      "metadata": {
        "id": "mWRYnM_l3sxB"
      }
    },
    {
      "cell_type": "markdown",
      "source": [
        "Create a new Google Colab notebook and enerate the following headings in text cells (level in brackets) (3 points):\n",
        "\n",
        "- Basic formatting examples (2)\n",
        "- How to include external media (3)\n",
        "- Coding excercises (2)"
      ],
      "metadata": {
        "id": "uVeG_anP7vIo"
      }
    },
    {
      "cell_type": "markdown",
      "source": [
        "## Basic formatting examples (7 points)\n",
        "\n",
        "make a numbered list that includes 5 things you want to learn in this class\n"
      ],
      "metadata": {
        "id": "0e-aOWS85uvY"
      }
    },
    {
      "cell_type": "markdown",
      "source": [
        "### How to include external media (7 points)\n",
        "- add a picture of your favorite scientist\n",
        "- include a caption that lists the source of the picture\n",
        "- write one sentence why this is your favorite scientist\n",
        "- use markdown formatting to emphasize the scientists name\n",
        "- add an equation the scientitst used by embedding $\\LaTeX$ code\n",
        "- close the paragraph with an emoji\n",
        "- and a four line poem of how much fun it is to do this homework created by your favorite AI LLM 💡"
      ],
      "metadata": {
        "id": "Ftk20vPN6A30"
      }
    },
    {
      "cell_type": "markdown",
      "source": [
        "## Coding Exercises Total: (total 21 points)\n",
        "\n",
        "1. **Print \"Hello, World!\"** (1 point)  \n",
        "   - Learn how to print text in Python and modify it so it says \"Hello Class!\".\n",
        "\n",
        "6. **Formatting** (3 points)  \n",
        "   - use a formatting string to include the number \"002025.000\" in a print statement with 2 leading and 3 trailing zeroes.\n",
        "\n",
        "2. **Variables and Data Types** (2 points)  \n",
        "   - generate three variable: a strings, an integer, and a float, and print their values.\n",
        "\n",
        "3. **Basic Math Operations** (2 points)  \n",
        "   - Perform addition, subtraction, multiplication, division, and modulus operations.\n",
        "\n",
        "4. **Conditional Statements** (2 points)  \n",
        "   - Use if-else conditions to check if a number is even or odd.\n",
        "\n",
        "5. **Loops: Counting with a For Loop** (2 points)  \n",
        "   - Use a for loop to print numbers and modify it to show even numbers.\n",
        "\n",
        "7. **Functions: Simple Calculator** (2 points)  \n",
        "   - Define and call a function to perform basic arithmetic operations.\n",
        "\n",
        "8. **Lists: Average Calculator** (2 points)  \n",
        "   - Use lists to calculate the average of a set of numbers.\n",
        "\n",
        "9. **Dictionaries: Fruits** (2 points)  \n",
        "   - Store and print difffernet fruits using dictionaries.\n",
        "\n",
        "10. **File Handling: Writing to a File** (3 points)  \n",
        "    - Write user input to a file and modify it to read back the contents.\n"
      ],
      "metadata": {
        "id": "oQ2ThJbLXEXi"
      }
    },
    {
      "cell_type": "markdown",
      "source": [
        "## Upload your colab notebook to github (4 points)\n",
        "\n",
        "1. Click: *File*>*Save a copy on github*\n",
        "2.\n",
        "    - choose as repository: *ubsuny/PHY386*\n",
        "    - branch: *Homework2025*\n",
        "    - File path: *2025/HW1/YourGitHubUserName/HW1.ipynb*\n",
        "    - Commit message: *Use the poem created earlier, e.g.*\n",
        "```text\n",
        "Uploading this homework, a joy to behold,\n",
        "Lines of code, like treasures of gold.\n",
        "Each loop and function, a puzzle so bright,\n",
        "Turning in tasks fills me with delight!\n",
        "```\n",
        "poem created by ChatGPT\n",
        "\n",
        "    - check: *include a link to google colab*\n",
        "\n",
        "![This is how it should look like](https://raw.githubusercontent.com/ubsuny/PHY386/248ce6796e40a9e95e53ae410646a21cf3cf4a6e/figures/UploadToGithub.png \"Upload to GitHub\")\n"
      ],
      "metadata": {
        "id": "rtWUiB3MX4ib"
      }
    }
  ]
}